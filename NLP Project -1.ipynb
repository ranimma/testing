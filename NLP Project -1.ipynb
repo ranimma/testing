{
 "cells": [
  {
   "cell_type": "markdown",
   "id": "4e034f79",
   "metadata": {},
   "source": [
    "## PART ONE"
   ]
  },
  {
   "cell_type": "code",
   "execution_count": 1,
   "id": "ba7f0827",
   "metadata": {},
   "outputs": [],
   "source": [
    "import pandas as pd\n",
    "import numpy as np\n",
    "import string\n",
    "import re\n",
    "pd.options.display.max_colwidth = 500\n",
    "from zipfile import ZipFile\n",
    "import os\n",
    "\n",
    "import warnings \n",
    "warnings.filterwarnings(action=\"ignore\")\n",
    "\n",
    "from sklearn.model_selection import train_test_split\n",
    "from sklearn.feature_extraction.text import CountVectorizer,TfidfVectorizer\n",
    "\n",
    "import langdetect\n",
    "import nltk\n",
    "from nltk.corpus import stopwords\n",
    "from nltk import word_tokenize\n",
    "from nltk.stem import WordNetLemmatizer"
   ]
  },
  {
   "cell_type": "markdown",
   "id": "52ad05d3",
   "metadata": {},
   "source": [
    "#### 1. Read and Analyse Dataset"
   ]
  },
  {
   "cell_type": "code",
   "execution_count": 2,
   "id": "820b8d9f",
   "metadata": {},
   "outputs": [],
   "source": [
    "#1) Clearly write outcome of data analysis(Minimum 2 points)"
   ]
  },
  {
   "cell_type": "code",
   "execution_count": 3,
   "id": "f1f0c444",
   "metadata": {},
   "outputs": [],
   "source": [
    "#unzip\n",
    "with ZipFile(\"blogs.zip\") as file:\n",
    "    file.extractall()"
   ]
  },
  {
   "cell_type": "code",
   "execution_count": 4,
   "id": "2dfe5df8",
   "metadata": {},
   "outputs": [
    {
     "name": "stdout",
     "output_type": "stream",
     "text": [
      " Volume in drive C is OSDisk\n",
      " Volume Serial Number is C0A0-881F\n",
      "\n",
      " Directory of C:\\Users\\nirajesh\\Desktop\\GL\\NLP\\Project\n",
      "\n",
      "08/06/2022  09:23 PM    <DIR>          .\n",
      "08/06/2022  09:23 PM    <DIR>          ..\n",
      "07/21/2022  08:36 AM    <DIR>          .ipynb_checkpoints\n",
      "08/06/2022  08:33 AM                96 2\n",
      "08/06/2022  08:20 AM       303,646,744 blogs.zip\n",
      "08/06/2022  09:31 PM       800,419,647 blogtext.csv\n",
      "08/06/2022  08:18 AM             6,520 GL Bot (1).json\n",
      "08/06/2022  09:23 PM            77,857 NLP Project -1.ipynb\n",
      "07/21/2022  08:23 AM           387,583 NLP Project 1.pdf\n",
      "08/06/2022  08:18 AM           296,090 NLP-1_Problem Statement.pdf\n",
      "07/21/2022  08:23 AM         5,647,880 Text chat bot testing video.mov\n",
      "               8 File(s)  1,110,482,417 bytes\n",
      "               3 Dir(s)  340,518,187,008 bytes free\n"
     ]
    }
   ],
   "source": [
    "ls"
   ]
  },
  {
   "cell_type": "code",
   "execution_count": 5,
   "id": "a159ad7e",
   "metadata": {},
   "outputs": [],
   "source": [
    "#read the data into df\n",
    "bloggers_df =pd.read_csv(\"blogtext.csv\")"
   ]
  },
  {
   "cell_type": "code",
   "execution_count": 6,
   "id": "8e4ebc8f",
   "metadata": {},
   "outputs": [
    {
     "data": {
      "text/plain": [
       "(681284, 7)"
      ]
     },
     "execution_count": 6,
     "metadata": {},
     "output_type": "execute_result"
    }
   ],
   "source": [
    "# shape of the dataset\n",
    "bloggers_df.shape"
   ]
  },
  {
   "cell_type": "code",
   "execution_count": 7,
   "id": "252a84e3",
   "metadata": {},
   "outputs": [
    {
     "data": {
      "text/html": [
       "<div>\n",
       "<style scoped>\n",
       "    .dataframe tbody tr th:only-of-type {\n",
       "        vertical-align: middle;\n",
       "    }\n",
       "\n",
       "    .dataframe tbody tr th {\n",
       "        vertical-align: top;\n",
       "    }\n",
       "\n",
       "    .dataframe thead th {\n",
       "        text-align: right;\n",
       "    }\n",
       "</style>\n",
       "<table border=\"1\" class=\"dataframe\">\n",
       "  <thead>\n",
       "    <tr style=\"text-align: right;\">\n",
       "      <th></th>\n",
       "      <th>id</th>\n",
       "      <th>gender</th>\n",
       "      <th>age</th>\n",
       "      <th>topic</th>\n",
       "      <th>sign</th>\n",
       "      <th>date</th>\n",
       "      <th>text</th>\n",
       "    </tr>\n",
       "  </thead>\n",
       "  <tbody>\n",
       "    <tr>\n",
       "      <th>0</th>\n",
       "      <td>2059027</td>\n",
       "      <td>male</td>\n",
       "      <td>15</td>\n",
       "      <td>Student</td>\n",
       "      <td>Leo</td>\n",
       "      <td>14,May,2004</td>\n",
       "      <td>Info has been found (+/- 100 pages, and 4.5 MB of .pdf files) Now i have to wait untill our team leader has processed it and learns html.</td>\n",
       "    </tr>\n",
       "    <tr>\n",
       "      <th>1</th>\n",
       "      <td>2059027</td>\n",
       "      <td>male</td>\n",
       "      <td>15</td>\n",
       "      <td>Student</td>\n",
       "      <td>Leo</td>\n",
       "      <td>13,May,2004</td>\n",
       "      <td>These are the team members:   Drewes van der Laag           urlLink mail  Ruiyu Xie                     urlLink mail  Bryan Aaldering (me)          urlLink mail</td>\n",
       "    </tr>\n",
       "    <tr>\n",
       "      <th>2</th>\n",
       "      <td>2059027</td>\n",
       "      <td>male</td>\n",
       "      <td>15</td>\n",
       "      <td>Student</td>\n",
       "      <td>Leo</td>\n",
       "      <td>12,May,2004</td>\n",
       "      <td>In het kader van kernfusie op aarde:  MAAK JE EIGEN WATERSTOFBOM   How to build an H-Bomb From: ascott@tartarus.uwa.edu.au (Andrew Scott) Newsgroups: rec.humor Subject: How To Build An H-Bomb (humorous!) Date: 7 Feb 1994 07:41:14 GMT Organization: The University of Western Australia  Original file dated 12th November 1990. Seemed to be a transcript of a 'Seven Days' article. Poorly formatted and corrupted. I have added the text between 'examine under a microscope' and 'malleable, ...</td>\n",
       "    </tr>\n",
       "    <tr>\n",
       "      <th>3</th>\n",
       "      <td>2059027</td>\n",
       "      <td>male</td>\n",
       "      <td>15</td>\n",
       "      <td>Student</td>\n",
       "      <td>Leo</td>\n",
       "      <td>12,May,2004</td>\n",
       "      <td>testing!!!  testing!!!</td>\n",
       "    </tr>\n",
       "    <tr>\n",
       "      <th>4</th>\n",
       "      <td>3581210</td>\n",
       "      <td>male</td>\n",
       "      <td>33</td>\n",
       "      <td>InvestmentBanking</td>\n",
       "      <td>Aquarius</td>\n",
       "      <td>11,June,2004</td>\n",
       "      <td>Thanks to Yahoo!'s Toolbar I can now 'capture' the URLs of popups...which means now I can show you some cool links to Korean Pop (K-Pop) audio and video without the need to relate instructions like: 'go to the site, click on the pop-audio button then choose...'.  So, without further ado here is the link to 24-hour K-Pop  urlLink audio  and the  urlLink video  streaming.  Enjoy.</td>\n",
       "    </tr>\n",
       "    <tr>\n",
       "      <th>5</th>\n",
       "      <td>3581210</td>\n",
       "      <td>male</td>\n",
       "      <td>33</td>\n",
       "      <td>InvestmentBanking</td>\n",
       "      <td>Aquarius</td>\n",
       "      <td>10,June,2004</td>\n",
       "      <td>I had an interesting conversation with my Dad this morning.  We were talking about where Koreans put their money.  Invariably, they have a lot of real estate and cash.  (Cash would include short term investments under one year as well as savings accounts.)  The reason?  Real estate makes money here.  A lot of money.  I've seen surveys of Seoul real estate rising about 10-15% PER YEAR for long stretches, even after taking into account the 1997 Crisis (referred to as the IMF crisi...</td>\n",
       "    </tr>\n",
       "    <tr>\n",
       "      <th>6</th>\n",
       "      <td>3581210</td>\n",
       "      <td>male</td>\n",
       "      <td>33</td>\n",
       "      <td>InvestmentBanking</td>\n",
       "      <td>Aquarius</td>\n",
       "      <td>10,June,2004</td>\n",
       "      <td>Somehow Coca-Cola has a way of summing up things so well.  In the early 1970s they had as their flagship jingle 'I'd Like to Buy the World a Coke' (to the tune of 'I'd Like to Teach the World to Sing') that pretty much summed up the post-Woodstock era so well.  It didn't add much to sales, but it was a catchy tune.  In Korea Coke's theme is  urlLink Stop Thinking. Feel it.  which pretty much sums up a lot about Korea and Koreans.  (Look at how relaxed that couple is, now that th...</td>\n",
       "    </tr>\n",
       "    <tr>\n",
       "      <th>7</th>\n",
       "      <td>3581210</td>\n",
       "      <td>male</td>\n",
       "      <td>33</td>\n",
       "      <td>InvestmentBanking</td>\n",
       "      <td>Aquarius</td>\n",
       "      <td>10,June,2004</td>\n",
       "      <td>If anything, Korea is a country of extremes.  Everything here seems fad-based.  I think it may come from Korea's history.  It has been invaded a reported 700 times over the years, and each time they got independence I imagine they had to move quickly to get to the next level before the next war or occupation.  Lately (well, not really lately...in 1945) the Japanese Occupation ended.  Then the Korean War occurred from 1950-3.  After that there was turmoil, but in 1961 Park Chung ...</td>\n",
       "    </tr>\n",
       "    <tr>\n",
       "      <th>8</th>\n",
       "      <td>3581210</td>\n",
       "      <td>male</td>\n",
       "      <td>33</td>\n",
       "      <td>InvestmentBanking</td>\n",
       "      <td>Aquarius</td>\n",
       "      <td>10,June,2004</td>\n",
       "      <td>Take a read of this news article from urlLink JoongAng Ilbo  about North Korea's opinion on the scaling down of troops in Seoul and Korea (specifically, 3,600 troops are heading to Iraq and by the end of 2005 the current total of 37,000 should drop to about 24,500).   North blasts U.S. troop cuts  North Korea again blasted the United States yesterday for what it calls 'an increase of U.S. defense capabilities' after the planned relocation of 3,600 U.S. troops in South Korea to I...</td>\n",
       "    </tr>\n",
       "    <tr>\n",
       "      <th>9</th>\n",
       "      <td>3581210</td>\n",
       "      <td>male</td>\n",
       "      <td>33</td>\n",
       "      <td>InvestmentBanking</td>\n",
       "      <td>Aquarius</td>\n",
       "      <td>09,June,2004</td>\n",
       "      <td>I surf the English news sites a lot looking for tidbits on Korea and how foreigners (like me) view the 'Hermit Kingdom' but also as a way to keep up with this fast-moving place.  Sometimes, though, one needs to check the veracity of the figures put in the papers...especially the local ones.  Here are two examples of how the English version of the Korea Times and that of the JoongAng Ilbo (Daily).  The first is pretty straightforward.   urlLink Korea Times  said that 249 people w...</td>\n",
       "    </tr>\n",
       "  </tbody>\n",
       "</table>\n",
       "</div>"
      ],
      "text/plain": [
       "        id gender  age              topic      sign          date  \\\n",
       "0  2059027   male   15            Student       Leo   14,May,2004   \n",
       "1  2059027   male   15            Student       Leo   13,May,2004   \n",
       "2  2059027   male   15            Student       Leo   12,May,2004   \n",
       "3  2059027   male   15            Student       Leo   12,May,2004   \n",
       "4  3581210   male   33  InvestmentBanking  Aquarius  11,June,2004   \n",
       "5  3581210   male   33  InvestmentBanking  Aquarius  10,June,2004   \n",
       "6  3581210   male   33  InvestmentBanking  Aquarius  10,June,2004   \n",
       "7  3581210   male   33  InvestmentBanking  Aquarius  10,June,2004   \n",
       "8  3581210   male   33  InvestmentBanking  Aquarius  10,June,2004   \n",
       "9  3581210   male   33  InvestmentBanking  Aquarius  09,June,2004   \n",
       "\n",
       "                                                                                                                                                                                                                                                                                                                                                                                                                                                                                                                  text  \n",
       "0                                                                                                                                                                                                                                                                                                                                                                   Info has been found (+/- 100 pages, and 4.5 MB of .pdf files) Now i have to wait untill our team leader has processed it and learns html.           \n",
       "1                                                                                                                                                                                                                                                                                                                                           These are the team members:   Drewes van der Laag           urlLink mail  Ruiyu Xie                     urlLink mail  Bryan Aaldering (me)          urlLink mail            \n",
       "2             In het kader van kernfusie op aarde:  MAAK JE EIGEN WATERSTOFBOM   How to build an H-Bomb From: ascott@tartarus.uwa.edu.au (Andrew Scott) Newsgroups: rec.humor Subject: How To Build An H-Bomb (humorous!) Date: 7 Feb 1994 07:41:14 GMT Organization: The University of Western Australia  Original file dated 12th November 1990. Seemed to be a transcript of a 'Seven Days' article. Poorly formatted and corrupted. I have added the text between 'examine under a microscope' and 'malleable, ...  \n",
       "3                                                                                                                                                                                                                                                                                                                                                                                                                                                                                     testing!!!  testing!!!            \n",
       "4                                                                                                                Thanks to Yahoo!'s Toolbar I can now 'capture' the URLs of popups...which means now I can show you some cool links to Korean Pop (K-Pop) audio and video without the need to relate instructions like: 'go to the site, click on the pop-audio button then choose...'.  So, without further ado here is the link to 24-hour K-Pop  urlLink audio  and the  urlLink video  streaming.  Enjoy.           \n",
       "5               I had an interesting conversation with my Dad this morning.  We were talking about where Koreans put their money.  Invariably, they have a lot of real estate and cash.  (Cash would include short term investments under one year as well as savings accounts.)  The reason?  Real estate makes money here.  A lot of money.  I've seen surveys of Seoul real estate rising about 10-15% PER YEAR for long stretches, even after taking into account the 1997 Crisis (referred to as the IMF crisi...  \n",
       "6               Somehow Coca-Cola has a way of summing up things so well.  In the early 1970s they had as their flagship jingle 'I'd Like to Buy the World a Coke' (to the tune of 'I'd Like to Teach the World to Sing') that pretty much summed up the post-Woodstock era so well.  It didn't add much to sales, but it was a catchy tune.  In Korea Coke's theme is  urlLink Stop Thinking. Feel it.  which pretty much sums up a lot about Korea and Koreans.  (Look at how relaxed that couple is, now that th...  \n",
       "7               If anything, Korea is a country of extremes.  Everything here seems fad-based.  I think it may come from Korea's history.  It has been invaded a reported 700 times over the years, and each time they got independence I imagine they had to move quickly to get to the next level before the next war or occupation.  Lately (well, not really lately...in 1945) the Japanese Occupation ended.  Then the Korean War occurred from 1950-3.  After that there was turmoil, but in 1961 Park Chung ...  \n",
       "8               Take a read of this news article from urlLink JoongAng Ilbo  about North Korea's opinion on the scaling down of troops in Seoul and Korea (specifically, 3,600 troops are heading to Iraq and by the end of 2005 the current total of 37,000 should drop to about 24,500).   North blasts U.S. troop cuts  North Korea again blasted the United States yesterday for what it calls 'an increase of U.S. defense capabilities' after the planned relocation of 3,600 U.S. troops in South Korea to I...  \n",
       "9               I surf the English news sites a lot looking for tidbits on Korea and how foreigners (like me) view the 'Hermit Kingdom' but also as a way to keep up with this fast-moving place.  Sometimes, though, one needs to check the veracity of the figures put in the papers...especially the local ones.  Here are two examples of how the English version of the Korea Times and that of the JoongAng Ilbo (Daily).  The first is pretty straightforward.   urlLink Korea Times  said that 249 people w...  "
      ]
     },
     "execution_count": 7,
     "metadata": {},
     "output_type": "execute_result"
    }
   ],
   "source": [
    "#sample data\n",
    "bloggers_df.head(10)"
   ]
  },
  {
   "cell_type": "code",
   "execution_count": 8,
   "id": "9770db72",
   "metadata": {},
   "outputs": [
    {
     "data": {
      "text/plain": [
       "19320"
      ]
     },
     "execution_count": 8,
     "metadata": {},
     "output_type": "execute_result"
    }
   ],
   "source": [
    "bloggers_df.id.nunique()"
   ]
  },
  {
   "cell_type": "code",
   "execution_count": 9,
   "id": "5597f57f",
   "metadata": {},
   "outputs": [
    {
     "data": {
      "text/plain": [
       "id         int64\n",
       "gender    object\n",
       "age        int64\n",
       "topic     object\n",
       "sign      object\n",
       "date      object\n",
       "text      object\n",
       "dtype: object"
      ]
     },
     "execution_count": 9,
     "metadata": {},
     "output_type": "execute_result"
    }
   ],
   "source": [
    "#datatypes\n",
    "bloggers_df.dtypes"
   ]
  },
  {
   "cell_type": "code",
   "execution_count": 10,
   "id": "756e7ee2",
   "metadata": {},
   "outputs": [
    {
     "data": {
      "text/html": [
       "<div>\n",
       "<style scoped>\n",
       "    .dataframe tbody tr th:only-of-type {\n",
       "        vertical-align: middle;\n",
       "    }\n",
       "\n",
       "    .dataframe tbody tr th {\n",
       "        vertical-align: top;\n",
       "    }\n",
       "\n",
       "    .dataframe thead th {\n",
       "        text-align: right;\n",
       "    }\n",
       "</style>\n",
       "<table border=\"1\" class=\"dataframe\">\n",
       "  <thead>\n",
       "    <tr style=\"text-align: right;\">\n",
       "      <th></th>\n",
       "      <th>gender</th>\n",
       "      <th>topic</th>\n",
       "      <th>sign</th>\n",
       "      <th>date</th>\n",
       "      <th>text</th>\n",
       "    </tr>\n",
       "  </thead>\n",
       "  <tbody>\n",
       "    <tr>\n",
       "      <th>count</th>\n",
       "      <td>681284</td>\n",
       "      <td>681284</td>\n",
       "      <td>681284</td>\n",
       "      <td>681284</td>\n",
       "      <td>681284</td>\n",
       "    </tr>\n",
       "    <tr>\n",
       "      <th>unique</th>\n",
       "      <td>2</td>\n",
       "      <td>40</td>\n",
       "      <td>12</td>\n",
       "      <td>2616</td>\n",
       "      <td>611652</td>\n",
       "    </tr>\n",
       "    <tr>\n",
       "      <th>top</th>\n",
       "      <td>male</td>\n",
       "      <td>indUnk</td>\n",
       "      <td>Cancer</td>\n",
       "      <td>02,August,2004</td>\n",
       "      <td>urlLink</td>\n",
       "    </tr>\n",
       "    <tr>\n",
       "      <th>freq</th>\n",
       "      <td>345193</td>\n",
       "      <td>251015</td>\n",
       "      <td>65048</td>\n",
       "      <td>16544</td>\n",
       "      <td>445</td>\n",
       "    </tr>\n",
       "  </tbody>\n",
       "</table>\n",
       "</div>"
      ],
      "text/plain": [
       "        gender   topic    sign            date                 text\n",
       "count   681284  681284  681284          681284               681284\n",
       "unique       2      40      12            2616               611652\n",
       "top       male  indUnk  Cancer  02,August,2004           urlLink   \n",
       "freq    345193  251015   65048           16544                  445"
      ]
     },
     "execution_count": 10,
     "metadata": {},
     "output_type": "execute_result"
    }
   ],
   "source": [
    "object_col=[col for col in bloggers_df.columns if bloggers_df[col].dtype == 'O' ]\n",
    "bloggers_df[object_col].describe()"
   ]
  },
  {
   "cell_type": "markdown",
   "id": "315e2bf4",
   "metadata": {},
   "source": [
    "- Most of the Posts from bloggers related indUnk topic\n",
    "- There are total 40 topics in the dataset"
   ]
  },
  {
   "cell_type": "code",
   "execution_count": 11,
   "id": "dfe3902b",
   "metadata": {},
   "outputs": [
    {
     "data": {
      "text/plain": [
       "74                      O= optimist P= pessimist  My argument with myself:  P: Nooooo! Stop thinking about him! O: Why? He's my boyfriend. I'm allowed to. P: You're obsessing! O: What?! No I'm not. I just like him a lot. P: You're crazy if you think it's going to work! O: Ok... Then I'm crazy! P: So you think it will work out between you two? Do you think he's 'the one'? O: Yes and possibly. P: Insane! I can't believe you! You know what is going to happen! The same thing that always happens. You w...\n",
       "Name: text, dtype: object"
      ]
     },
     "execution_count": 11,
     "metadata": {},
     "output_type": "execute_result"
    }
   ],
   "source": [
    "bloggers_df[bloggers_df['topic'] == 'indUnk']['text'].head(1)"
   ]
  },
  {
   "cell_type": "code",
   "execution_count": 12,
   "id": "64ec9dd4",
   "metadata": {},
   "outputs": [
    {
     "data": {
      "text/plain": [
       "male      345193\n",
       "female    336091\n",
       "Name: gender, dtype: int64"
      ]
     },
     "execution_count": 12,
     "metadata": {},
     "output_type": "execute_result"
    }
   ],
   "source": [
    "bloggers_df['gender'].value_counts()"
   ]
  },
  {
   "cell_type": "markdown",
   "id": "858ba7a5",
   "metadata": {},
   "source": [
    "- Almost Equal number of male and female bloggers"
   ]
  },
  {
   "cell_type": "code",
   "execution_count": 13,
   "id": "760f1300",
   "metadata": {},
   "outputs": [
    {
     "data": {
      "text/html": [
       "<div>\n",
       "<style scoped>\n",
       "    .dataframe tbody tr th:only-of-type {\n",
       "        vertical-align: middle;\n",
       "    }\n",
       "\n",
       "    .dataframe tbody tr th {\n",
       "        vertical-align: top;\n",
       "    }\n",
       "\n",
       "    .dataframe thead th {\n",
       "        text-align: right;\n",
       "    }\n",
       "</style>\n",
       "<table border=\"1\" class=\"dataframe\">\n",
       "  <thead>\n",
       "    <tr style=\"text-align: right;\">\n",
       "      <th></th>\n",
       "      <th>id</th>\n",
       "      <th>age</th>\n",
       "    </tr>\n",
       "  </thead>\n",
       "  <tbody>\n",
       "    <tr>\n",
       "      <th>count</th>\n",
       "      <td>681284.00</td>\n",
       "      <td>681284.00</td>\n",
       "    </tr>\n",
       "    <tr>\n",
       "      <th>mean</th>\n",
       "      <td>2397802.40</td>\n",
       "      <td>23.93</td>\n",
       "    </tr>\n",
       "    <tr>\n",
       "      <th>std</th>\n",
       "      <td>1247722.70</td>\n",
       "      <td>7.79</td>\n",
       "    </tr>\n",
       "    <tr>\n",
       "      <th>min</th>\n",
       "      <td>5114.00</td>\n",
       "      <td>13.00</td>\n",
       "    </tr>\n",
       "    <tr>\n",
       "      <th>25%</th>\n",
       "      <td>1239610.00</td>\n",
       "      <td>17.00</td>\n",
       "    </tr>\n",
       "    <tr>\n",
       "      <th>50%</th>\n",
       "      <td>2607577.00</td>\n",
       "      <td>24.00</td>\n",
       "    </tr>\n",
       "    <tr>\n",
       "      <th>75%</th>\n",
       "      <td>3525660.00</td>\n",
       "      <td>26.00</td>\n",
       "    </tr>\n",
       "    <tr>\n",
       "      <th>max</th>\n",
       "      <td>4337650.00</td>\n",
       "      <td>48.00</td>\n",
       "    </tr>\n",
       "  </tbody>\n",
       "</table>\n",
       "</div>"
      ],
      "text/plain": [
       "               id        age\n",
       "count   681284.00  681284.00\n",
       "mean   2397802.40      23.93\n",
       "std    1247722.70       7.79\n",
       "min       5114.00      13.00\n",
       "25%    1239610.00      17.00\n",
       "50%    2607577.00      24.00\n",
       "75%    3525660.00      26.00\n",
       "max    4337650.00      48.00"
      ]
     },
     "execution_count": 13,
     "metadata": {},
     "output_type": "execute_result"
    }
   ],
   "source": [
    "numerical_col=[col for col in bloggers_df.columns if bloggers_df[col].dtype != 'O' ]\n",
    "bloggers_df[numerical_col].describe().apply(lambda s: s.apply('{0:.2f}'.format))"
   ]
  },
  {
   "cell_type": "markdown",
   "id": "a40a914a",
   "metadata": {},
   "source": [
    "Most of the bloggers with age between 24 to 26"
   ]
  },
  {
   "cell_type": "code",
   "execution_count": 14,
   "id": "f908b8fb",
   "metadata": {},
   "outputs": [
    {
     "data": {
      "text/plain": [
       "indUnk                     251015\n",
       "Student                    153903\n",
       "Technology                  42055\n",
       "Arts                        32449\n",
       "Education                   29633\n",
       "Communications-Media        20140\n",
       "Internet                    16006\n",
       "Non-Profit                  14700\n",
       "Engineering                 11653\n",
       "Law                          9040\n",
       "Publishing                   7753\n",
       "Science                      7269\n",
       "Government                   6907\n",
       "Consulting                   5862\n",
       "Religion                     5235\n",
       "Fashion                      4851\n",
       "Marketing                    4769\n",
       "Advertising                  4676\n",
       "BusinessServices             4500\n",
       "Banking                      4049\n",
       "Chemicals                    3928\n",
       "Telecommunications           3891\n",
       "Accounting                   3832\n",
       "Military                     3128\n",
       "Museums-Libraries            3096\n",
       "Sports-Recreation            3038\n",
       "HumanResources               3010\n",
       "RealEstate                   2870\n",
       "Transportation               2326\n",
       "Manufacturing                2272\n",
       "Biotech                      2234\n",
       "Tourism                      1942\n",
       "LawEnforcement-Security      1878\n",
       "Architecture                 1638\n",
       "InvestmentBanking            1292\n",
       "Automotive                   1244\n",
       "Agriculture                  1235\n",
       "Construction                 1093\n",
       "Environment                   592\n",
       "Maritime                      280\n",
       "Name: topic, dtype: int64"
      ]
     },
     "execution_count": 14,
     "metadata": {},
     "output_type": "execute_result"
    }
   ],
   "source": [
    "bloggers_df['topic'].value_counts()"
   ]
  },
  {
   "cell_type": "code",
   "execution_count": 15,
   "id": "558591ff",
   "metadata": {},
   "outputs": [
    {
     "data": {
      "text/plain": [
       "Cancer         65048\n",
       "Aries          64979\n",
       "Taurus         62561\n",
       "Libra          62363\n",
       "Virgo          60399\n",
       "Scorpio        57161\n",
       "Pisces         54053\n",
       "Leo            53811\n",
       "Gemini         51985\n",
       "Sagittarius    50036\n",
       "Aquarius       49687\n",
       "Capricorn      49201\n",
       "Name: sign, dtype: int64"
      ]
     },
     "execution_count": 15,
     "metadata": {},
     "output_type": "execute_result"
    }
   ],
   "source": [
    "bloggers_df['sign'].value_counts()"
   ]
  },
  {
   "cell_type": "code",
   "execution_count": 16,
   "id": "fdb515cb",
   "metadata": {},
   "outputs": [],
   "source": [
    "#B) Clean the Structured Data"
   ]
  },
  {
   "cell_type": "code",
   "execution_count": 17,
   "id": "4c8b21f6",
   "metadata": {},
   "outputs": [],
   "source": [
    "#i) Missing value analysis and imputation."
   ]
  },
  {
   "cell_type": "code",
   "execution_count": 18,
   "id": "a27c334d",
   "metadata": {},
   "outputs": [
    {
     "data": {
      "text/plain": [
       "id        0\n",
       "gender    0\n",
       "age       0\n",
       "topic     0\n",
       "sign      0\n",
       "date      0\n",
       "text      0\n",
       "dtype: int64"
      ]
     },
     "execution_count": 18,
     "metadata": {},
     "output_type": "execute_result"
    }
   ],
   "source": [
    "bloggers_df.isna().sum()"
   ]
  },
  {
   "cell_type": "markdown",
   "id": "3fc0a1d8",
   "metadata": {},
   "source": [
    " No nulls present in the dataset"
   ]
  },
  {
   "cell_type": "code",
   "execution_count": 19,
   "id": "25b8013e",
   "metadata": {},
   "outputs": [],
   "source": [
    "#ii.)  Eliminate Non-English textual data"
   ]
  },
  {
   "cell_type": "code",
   "execution_count": 20,
   "id": "1f60ef74",
   "metadata": {},
   "outputs": [],
   "source": [
    "bloggers_df=bloggers_df.sample(5000)"
   ]
  },
  {
   "cell_type": "code",
   "execution_count": 21,
   "id": "1de1e0fd",
   "metadata": {},
   "outputs": [],
   "source": [
    "from langdetect import detect\n",
    "\n",
    "def detect_english(text):\n",
    "    try:\n",
    "        return detect(text) == 'en'\n",
    "    except:\n",
    "        return False"
   ]
  },
  {
   "cell_type": "code",
   "execution_count": 22,
   "id": "025e8a4e",
   "metadata": {
    "scrolled": true
   },
   "outputs": [],
   "source": [
    "bloggers_df=bloggers_df[bloggers_df['text'].apply(detect_english)]"
   ]
  },
  {
   "cell_type": "code",
   "execution_count": 23,
   "id": "cce31ea4",
   "metadata": {},
   "outputs": [],
   "source": [
    "#2)Preprocess unstructured data to make it consumable for model training."
   ]
  },
  {
   "cell_type": "code",
   "execution_count": 24,
   "id": "b272cb6e",
   "metadata": {},
   "outputs": [],
   "source": [
    "#A) Eliminate All special Characters and Numbers"
   ]
  },
  {
   "cell_type": "code",
   "execution_count": 25,
   "id": "eae26d04",
   "metadata": {},
   "outputs": [],
   "source": [
    "bloggers_df['clean_text'] = bloggers_df['text'].apply(lambda x:re.sub('[^a-zA-Z]', ' ', x))"
   ]
  },
  {
   "cell_type": "code",
   "execution_count": 26,
   "id": "7977de09",
   "metadata": {},
   "outputs": [
    {
     "data": {
      "text/html": [
       "<div>\n",
       "<style scoped>\n",
       "    .dataframe tbody tr th:only-of-type {\n",
       "        vertical-align: middle;\n",
       "    }\n",
       "\n",
       "    .dataframe tbody tr th {\n",
       "        vertical-align: top;\n",
       "    }\n",
       "\n",
       "    .dataframe thead th {\n",
       "        text-align: right;\n",
       "    }\n",
       "</style>\n",
       "<table border=\"1\" class=\"dataframe\">\n",
       "  <thead>\n",
       "    <tr style=\"text-align: right;\">\n",
       "      <th></th>\n",
       "      <th>id</th>\n",
       "      <th>gender</th>\n",
       "      <th>age</th>\n",
       "      <th>topic</th>\n",
       "      <th>sign</th>\n",
       "      <th>date</th>\n",
       "      <th>text</th>\n",
       "      <th>clean_text</th>\n",
       "    </tr>\n",
       "  </thead>\n",
       "  <tbody>\n",
       "    <tr>\n",
       "      <th>639337</th>\n",
       "      <td>3578628</td>\n",
       "      <td>male</td>\n",
       "      <td>16</td>\n",
       "      <td>Education</td>\n",
       "      <td>Taurus</td>\n",
       "      <td>16,June,2004</td>\n",
       "      <td>I would like to take this opportunity to thank Spencer for staying up to 12:30 tonight to explain sports to me.  I would also like to take this time to thank everyone who has taken the time to explain sports to me, like Josh and David.  Working with these guys has been really nice and a true learning experience in all fields.  I know...you're all like 'It's no big deal.  We're cool with it,' but I am very sentimental and appreciate everything, so I like to thank people.  I know ...</td>\n",
       "      <td>I would like to take this opportunity to thank Spencer for staying up to       tonight to explain sports to me   I would also like to take this time to thank everyone who has taken the time to explain sports to me  like Josh and David   Working with these guys has been really nice and a true learning experience in all fields   I know   you re all like  It s no big deal   We re cool with it   but I am very sentimental and appreciate everything  so I like to thank people   I know ...</td>\n",
       "    </tr>\n",
       "    <tr>\n",
       "      <th>191552</th>\n",
       "      <td>3872536</td>\n",
       "      <td>male</td>\n",
       "      <td>17</td>\n",
       "      <td>Student</td>\n",
       "      <td>Gemini</td>\n",
       "      <td>01,June,2004</td>\n",
       "      <td>Another tired but meaningful day.  Today went school as usual to do the door gifts for the Leo camp. Do from 11 to about 4+ ba. We actually managed to finish all the doorgift by today lor, all the painting n writing of words. So satisfied with our product from far. Coz the doorgifts look so colourful n nice from far, but when one actually moves closer, it's like you'll see many cracks on it lor. So I was suggesting that we'll show the guests how nice our gifts are but when distributin...</td>\n",
       "      <td>Another tired but meaningful day   Today went school as usual to do the door gifts for the Leo camp  Do from    to about    ba  We actually managed to finish all the doorgift by today lor  all the painting n writing of words  So satisfied with our product from far  Coz the doorgifts look so colourful n nice from far  but when one actually moves closer  it s like you ll see many cracks on it lor  So I was suggesting that we ll show the guests how nice our gifts are but when distributin...</td>\n",
       "    </tr>\n",
       "    <tr>\n",
       "      <th>323628</th>\n",
       "      <td>3761156</td>\n",
       "      <td>female</td>\n",
       "      <td>15</td>\n",
       "      <td>indUnk</td>\n",
       "      <td>Pisces</td>\n",
       "      <td>01,July,2004</td>\n",
       "      <td>First of all . . . Lauren, tomorrow you WILL! I really wanna go to HOM!  So . . . I got a letter from Mr. Suppon. He is one of my favorite teachers, if not my favorite teacher. I love photo way much, but I am pretty darn good at screwing things up in that department. Cheating is bad, especially if you are a really bad cheater and you end up making it look like you were cheating even more than you were before. Yeah, so, that made no sense. However, I did it. I muddled up coppying t...</td>\n",
       "      <td>First of all       Lauren  tomorrow you WILL  I really wanna go to HOM   So       I got a letter from Mr  Suppon  He is one of my favorite teachers  if not my favorite teacher  I love photo way much  but I am pretty darn good at screwing things up in that department  Cheating is bad  especially if you are a really bad cheater and you end up making it look like you were cheating even more than you were before  Yeah  so  that made no sense  However  I did it  I muddled up coppying t...</td>\n",
       "    </tr>\n",
       "    <tr>\n",
       "      <th>495536</th>\n",
       "      <td>3451935</td>\n",
       "      <td>male</td>\n",
       "      <td>17</td>\n",
       "      <td>Banking</td>\n",
       "      <td>Aries</td>\n",
       "      <td>25,May,2004</td>\n",
       "      <td>urlLink    duncy-poos and ali-poos. duncy-poos lookin a bit concerned about something&amp;nbsp; urlLink</td>\n",
       "      <td>urlLink    duncy poos and ali poos  duncy poos lookin a bit concerned about something nbsp  urlLink</td>\n",
       "    </tr>\n",
       "    <tr>\n",
       "      <th>524919</th>\n",
       "      <td>1000866</td>\n",
       "      <td>female</td>\n",
       "      <td>17</td>\n",
       "      <td>Student</td>\n",
       "      <td>Libra</td>\n",
       "      <td>04,January,2004</td>\n",
       "      <td>Note to Catie: You're a moron. Listen to yourself when you say go to bed at a reasonable hour.   Another note to Catie: Hit yourself over the head tomorrow morning.  Note to Catie's head: Watch out. Catie's going to hit you tomorrow morning.  Final note to self: Stop writing notes to yourself you ignoramus. You're going to scare people away.</td>\n",
       "      <td>Note to Catie  You re a moron  Listen to yourself when you say go to bed at a reasonable hour    Another note to Catie  Hit yourself over the head tomorrow morning   Note to Catie s head  Watch out  Catie s going to hit you tomorrow morning   Final note to self  Stop writing notes to yourself you ignoramus  You re going to scare people away</td>\n",
       "    </tr>\n",
       "  </tbody>\n",
       "</table>\n",
       "</div>"
      ],
      "text/plain": [
       "             id  gender  age      topic    sign             date  \\\n",
       "639337  3578628    male   16  Education  Taurus     16,June,2004   \n",
       "191552  3872536    male   17    Student  Gemini     01,June,2004   \n",
       "323628  3761156  female   15     indUnk  Pisces     01,July,2004   \n",
       "495536  3451935    male   17    Banking   Aries      25,May,2004   \n",
       "524919  1000866  female   17    Student   Libra  04,January,2004   \n",
       "\n",
       "                                                                                                                                                                                                                                                                                                                                                                                                                                                                                                                       text  \\\n",
       "639337               I would like to take this opportunity to thank Spencer for staying up to 12:30 tonight to explain sports to me.  I would also like to take this time to thank everyone who has taken the time to explain sports to me, like Josh and David.  Working with these guys has been really nice and a true learning experience in all fields.  I know...you're all like 'It's no big deal.  We're cool with it,' but I am very sentimental and appreciate everything, so I like to thank people.  I know ...   \n",
       "191552         Another tired but meaningful day.  Today went school as usual to do the door gifts for the Leo camp. Do from 11 to about 4+ ba. We actually managed to finish all the doorgift by today lor, all the painting n writing of words. So satisfied with our product from far. Coz the doorgifts look so colourful n nice from far, but when one actually moves closer, it's like you'll see many cracks on it lor. So I was suggesting that we'll show the guests how nice our gifts are but when distributin...   \n",
       "323628             First of all . . . Lauren, tomorrow you WILL! I really wanna go to HOM!  So . . . I got a letter from Mr. Suppon. He is one of my favorite teachers, if not my favorite teacher. I love photo way much, but I am pretty darn good at screwing things up in that department. Cheating is bad, especially if you are a really bad cheater and you end up making it look like you were cheating even more than you were before. Yeah, so, that made no sense. However, I did it. I muddled up coppying t...   \n",
       "495536                                                                                                                                                                                                                                                                                                                                                                                                      urlLink    duncy-poos and ali-poos. duncy-poos lookin a bit concerned about something&nbsp; urlLink               \n",
       "524919                                                                                                                                                         Note to Catie: You're a moron. Listen to yourself when you say go to bed at a reasonable hour.   Another note to Catie: Hit yourself over the head tomorrow morning.  Note to Catie's head: Watch out. Catie's going to hit you tomorrow morning.  Final note to self: Stop writing notes to yourself you ignoramus. You're going to scare people away.        \n",
       "\n",
       "                                                                                                                                                                                                                                                                                                                                                                                                                                                                                                                 clean_text  \n",
       "639337               I would like to take this opportunity to thank Spencer for staying up to       tonight to explain sports to me   I would also like to take this time to thank everyone who has taken the time to explain sports to me  like Josh and David   Working with these guys has been really nice and a true learning experience in all fields   I know   you re all like  It s no big deal   We re cool with it   but I am very sentimental and appreciate everything  so I like to thank people   I know ...  \n",
       "191552         Another tired but meaningful day   Today went school as usual to do the door gifts for the Leo camp  Do from    to about    ba  We actually managed to finish all the doorgift by today lor  all the painting n writing of words  So satisfied with our product from far  Coz the doorgifts look so colourful n nice from far  but when one actually moves closer  it s like you ll see many cracks on it lor  So I was suggesting that we ll show the guests how nice our gifts are but when distributin...  \n",
       "323628             First of all       Lauren  tomorrow you WILL  I really wanna go to HOM   So       I got a letter from Mr  Suppon  He is one of my favorite teachers  if not my favorite teacher  I love photo way much  but I am pretty darn good at screwing things up in that department  Cheating is bad  especially if you are a really bad cheater and you end up making it look like you were cheating even more than you were before  Yeah  so  that made no sense  However  I did it  I muddled up coppying t...  \n",
       "495536                                                                                                                                                                                                                                                                                                                                                                                                      urlLink    duncy poos and ali poos  duncy poos lookin a bit concerned about something nbsp  urlLink              \n",
       "524919                                                                                                                                                         Note to Catie  You re a moron  Listen to yourself when you say go to bed at a reasonable hour    Another note to Catie  Hit yourself over the head tomorrow morning   Note to Catie s head  Watch out  Catie s going to hit you tomorrow morning   Final note to self  Stop writing notes to yourself you ignoramus  You re going to scare people away        "
      ]
     },
     "execution_count": 26,
     "metadata": {},
     "output_type": "execute_result"
    }
   ],
   "source": [
    "bloggers_df.head()"
   ]
  },
  {
   "cell_type": "code",
   "execution_count": 27,
   "id": "b0cc0219",
   "metadata": {},
   "outputs": [],
   "source": [
    "#B) Lowercase all textual data "
   ]
  },
  {
   "cell_type": "code",
   "execution_count": 28,
   "id": "c05ed1a3",
   "metadata": {},
   "outputs": [],
   "source": [
    "bloggers_df['clean_text']=bloggers_df['clean_text'].apply(lambda x:x.lower())"
   ]
  },
  {
   "cell_type": "code",
   "execution_count": 29,
   "id": "f5198208",
   "metadata": {},
   "outputs": [
    {
     "data": {
      "text/html": [
       "<div>\n",
       "<style scoped>\n",
       "    .dataframe tbody tr th:only-of-type {\n",
       "        vertical-align: middle;\n",
       "    }\n",
       "\n",
       "    .dataframe tbody tr th {\n",
       "        vertical-align: top;\n",
       "    }\n",
       "\n",
       "    .dataframe thead th {\n",
       "        text-align: right;\n",
       "    }\n",
       "</style>\n",
       "<table border=\"1\" class=\"dataframe\">\n",
       "  <thead>\n",
       "    <tr style=\"text-align: right;\">\n",
       "      <th></th>\n",
       "      <th>id</th>\n",
       "      <th>gender</th>\n",
       "      <th>age</th>\n",
       "      <th>topic</th>\n",
       "      <th>sign</th>\n",
       "      <th>date</th>\n",
       "      <th>text</th>\n",
       "      <th>clean_text</th>\n",
       "    </tr>\n",
       "  </thead>\n",
       "  <tbody>\n",
       "    <tr>\n",
       "      <th>639337</th>\n",
       "      <td>3578628</td>\n",
       "      <td>male</td>\n",
       "      <td>16</td>\n",
       "      <td>Education</td>\n",
       "      <td>Taurus</td>\n",
       "      <td>16,June,2004</td>\n",
       "      <td>I would like to take this opportunity to thank Spencer for staying up to 12:30 tonight to explain sports to me.  I would also like to take this time to thank everyone who has taken the time to explain sports to me, like Josh and David.  Working with these guys has been really nice and a true learning experience in all fields.  I know...you're all like 'It's no big deal.  We're cool with it,' but I am very sentimental and appreciate everything, so I like to thank people.  I know ...</td>\n",
       "      <td>i would like to take this opportunity to thank spencer for staying up to       tonight to explain sports to me   i would also like to take this time to thank everyone who has taken the time to explain sports to me  like josh and david   working with these guys has been really nice and a true learning experience in all fields   i know   you re all like  it s no big deal   we re cool with it   but i am very sentimental and appreciate everything  so i like to thank people   i know ...</td>\n",
       "    </tr>\n",
       "    <tr>\n",
       "      <th>191552</th>\n",
       "      <td>3872536</td>\n",
       "      <td>male</td>\n",
       "      <td>17</td>\n",
       "      <td>Student</td>\n",
       "      <td>Gemini</td>\n",
       "      <td>01,June,2004</td>\n",
       "      <td>Another tired but meaningful day.  Today went school as usual to do the door gifts for the Leo camp. Do from 11 to about 4+ ba. We actually managed to finish all the doorgift by today lor, all the painting n writing of words. So satisfied with our product from far. Coz the doorgifts look so colourful n nice from far, but when one actually moves closer, it's like you'll see many cracks on it lor. So I was suggesting that we'll show the guests how nice our gifts are but when distributin...</td>\n",
       "      <td>another tired but meaningful day   today went school as usual to do the door gifts for the leo camp  do from    to about    ba  we actually managed to finish all the doorgift by today lor  all the painting n writing of words  so satisfied with our product from far  coz the doorgifts look so colourful n nice from far  but when one actually moves closer  it s like you ll see many cracks on it lor  so i was suggesting that we ll show the guests how nice our gifts are but when distributin...</td>\n",
       "    </tr>\n",
       "    <tr>\n",
       "      <th>323628</th>\n",
       "      <td>3761156</td>\n",
       "      <td>female</td>\n",
       "      <td>15</td>\n",
       "      <td>indUnk</td>\n",
       "      <td>Pisces</td>\n",
       "      <td>01,July,2004</td>\n",
       "      <td>First of all . . . Lauren, tomorrow you WILL! I really wanna go to HOM!  So . . . I got a letter from Mr. Suppon. He is one of my favorite teachers, if not my favorite teacher. I love photo way much, but I am pretty darn good at screwing things up in that department. Cheating is bad, especially if you are a really bad cheater and you end up making it look like you were cheating even more than you were before. Yeah, so, that made no sense. However, I did it. I muddled up coppying t...</td>\n",
       "      <td>first of all       lauren  tomorrow you will  i really wanna go to hom   so       i got a letter from mr  suppon  he is one of my favorite teachers  if not my favorite teacher  i love photo way much  but i am pretty darn good at screwing things up in that department  cheating is bad  especially if you are a really bad cheater and you end up making it look like you were cheating even more than you were before  yeah  so  that made no sense  however  i did it  i muddled up coppying t...</td>\n",
       "    </tr>\n",
       "    <tr>\n",
       "      <th>495536</th>\n",
       "      <td>3451935</td>\n",
       "      <td>male</td>\n",
       "      <td>17</td>\n",
       "      <td>Banking</td>\n",
       "      <td>Aries</td>\n",
       "      <td>25,May,2004</td>\n",
       "      <td>urlLink    duncy-poos and ali-poos. duncy-poos lookin a bit concerned about something&amp;nbsp; urlLink</td>\n",
       "      <td>urllink    duncy poos and ali poos  duncy poos lookin a bit concerned about something nbsp  urllink</td>\n",
       "    </tr>\n",
       "    <tr>\n",
       "      <th>524919</th>\n",
       "      <td>1000866</td>\n",
       "      <td>female</td>\n",
       "      <td>17</td>\n",
       "      <td>Student</td>\n",
       "      <td>Libra</td>\n",
       "      <td>04,January,2004</td>\n",
       "      <td>Note to Catie: You're a moron. Listen to yourself when you say go to bed at a reasonable hour.   Another note to Catie: Hit yourself over the head tomorrow morning.  Note to Catie's head: Watch out. Catie's going to hit you tomorrow morning.  Final note to self: Stop writing notes to yourself you ignoramus. You're going to scare people away.</td>\n",
       "      <td>note to catie  you re a moron  listen to yourself when you say go to bed at a reasonable hour    another note to catie  hit yourself over the head tomorrow morning   note to catie s head  watch out  catie s going to hit you tomorrow morning   final note to self  stop writing notes to yourself you ignoramus  you re going to scare people away</td>\n",
       "    </tr>\n",
       "  </tbody>\n",
       "</table>\n",
       "</div>"
      ],
      "text/plain": [
       "             id  gender  age      topic    sign             date  \\\n",
       "639337  3578628    male   16  Education  Taurus     16,June,2004   \n",
       "191552  3872536    male   17    Student  Gemini     01,June,2004   \n",
       "323628  3761156  female   15     indUnk  Pisces     01,July,2004   \n",
       "495536  3451935    male   17    Banking   Aries      25,May,2004   \n",
       "524919  1000866  female   17    Student   Libra  04,January,2004   \n",
       "\n",
       "                                                                                                                                                                                                                                                                                                                                                                                                                                                                                                                       text  \\\n",
       "639337               I would like to take this opportunity to thank Spencer for staying up to 12:30 tonight to explain sports to me.  I would also like to take this time to thank everyone who has taken the time to explain sports to me, like Josh and David.  Working with these guys has been really nice and a true learning experience in all fields.  I know...you're all like 'It's no big deal.  We're cool with it,' but I am very sentimental and appreciate everything, so I like to thank people.  I know ...   \n",
       "191552         Another tired but meaningful day.  Today went school as usual to do the door gifts for the Leo camp. Do from 11 to about 4+ ba. We actually managed to finish all the doorgift by today lor, all the painting n writing of words. So satisfied with our product from far. Coz the doorgifts look so colourful n nice from far, but when one actually moves closer, it's like you'll see many cracks on it lor. So I was suggesting that we'll show the guests how nice our gifts are but when distributin...   \n",
       "323628             First of all . . . Lauren, tomorrow you WILL! I really wanna go to HOM!  So . . . I got a letter from Mr. Suppon. He is one of my favorite teachers, if not my favorite teacher. I love photo way much, but I am pretty darn good at screwing things up in that department. Cheating is bad, especially if you are a really bad cheater and you end up making it look like you were cheating even more than you were before. Yeah, so, that made no sense. However, I did it. I muddled up coppying t...   \n",
       "495536                                                                                                                                                                                                                                                                                                                                                                                                      urlLink    duncy-poos and ali-poos. duncy-poos lookin a bit concerned about something&nbsp; urlLink               \n",
       "524919                                                                                                                                                         Note to Catie: You're a moron. Listen to yourself when you say go to bed at a reasonable hour.   Another note to Catie: Hit yourself over the head tomorrow morning.  Note to Catie's head: Watch out. Catie's going to hit you tomorrow morning.  Final note to self: Stop writing notes to yourself you ignoramus. You're going to scare people away.        \n",
       "\n",
       "                                                                                                                                                                                                                                                                                                                                                                                                                                                                                                                 clean_text  \n",
       "639337               i would like to take this opportunity to thank spencer for staying up to       tonight to explain sports to me   i would also like to take this time to thank everyone who has taken the time to explain sports to me  like josh and david   working with these guys has been really nice and a true learning experience in all fields   i know   you re all like  it s no big deal   we re cool with it   but i am very sentimental and appreciate everything  so i like to thank people   i know ...  \n",
       "191552         another tired but meaningful day   today went school as usual to do the door gifts for the leo camp  do from    to about    ba  we actually managed to finish all the doorgift by today lor  all the painting n writing of words  so satisfied with our product from far  coz the doorgifts look so colourful n nice from far  but when one actually moves closer  it s like you ll see many cracks on it lor  so i was suggesting that we ll show the guests how nice our gifts are but when distributin...  \n",
       "323628             first of all       lauren  tomorrow you will  i really wanna go to hom   so       i got a letter from mr  suppon  he is one of my favorite teachers  if not my favorite teacher  i love photo way much  but i am pretty darn good at screwing things up in that department  cheating is bad  especially if you are a really bad cheater and you end up making it look like you were cheating even more than you were before  yeah  so  that made no sense  however  i did it  i muddled up coppying t...  \n",
       "495536                                                                                                                                                                                                                                                                                                                                                                                                      urllink    duncy poos and ali poos  duncy poos lookin a bit concerned about something nbsp  urllink              \n",
       "524919                                                                                                                                                         note to catie  you re a moron  listen to yourself when you say go to bed at a reasonable hour    another note to catie  hit yourself over the head tomorrow morning   note to catie s head  watch out  catie s going to hit you tomorrow morning   final note to self  stop writing notes to yourself you ignoramus  you re going to scare people away        "
      ]
     },
     "execution_count": 29,
     "metadata": {},
     "output_type": "execute_result"
    }
   ],
   "source": [
    "bloggers_df.head()"
   ]
  },
  {
   "cell_type": "code",
   "execution_count": 30,
   "id": "032ebfe2",
   "metadata": {},
   "outputs": [],
   "source": [
    "#C)Remove all Stopwords"
   ]
  },
  {
   "cell_type": "code",
   "execution_count": 31,
   "id": "2d21245f",
   "metadata": {},
   "outputs": [],
   "source": [
    "stop_words = stopwords.words('english')\n",
    "\n",
    "def remove_stopwords(text):\n",
    "    return \" \".join([word for word in str(text).split() if word not in stop_words])\n",
    "\n",
    "bloggers_df['clean_text']=bloggers_df['clean_text'].apply(lambda x:remove_stopwords(x))"
   ]
  },
  {
   "cell_type": "code",
   "execution_count": 32,
   "id": "f06387c2",
   "metadata": {},
   "outputs": [],
   "source": [
    "#D) Remove all extra white spaces"
   ]
  },
  {
   "cell_type": "code",
   "execution_count": 33,
   "id": "9ffbc973",
   "metadata": {},
   "outputs": [],
   "source": [
    "bloggers_df['clean_text']=bloggers_df['clean_text'].apply(lambda x:re.sub(r' +',' ',x))"
   ]
  },
  {
   "cell_type": "code",
   "execution_count": 34,
   "id": "5a960092",
   "metadata": {},
   "outputs": [],
   "source": [
    "bloggers_df['clean_text']=bloggers_df['clean_text'].apply(lambda x:x.strip())"
   ]
  },
  {
   "cell_type": "code",
   "execution_count": 35,
   "id": "1c0d9974",
   "metadata": {},
   "outputs": [
    {
     "data": {
      "text/html": [
       "<div>\n",
       "<style scoped>\n",
       "    .dataframe tbody tr th:only-of-type {\n",
       "        vertical-align: middle;\n",
       "    }\n",
       "\n",
       "    .dataframe tbody tr th {\n",
       "        vertical-align: top;\n",
       "    }\n",
       "\n",
       "    .dataframe thead th {\n",
       "        text-align: right;\n",
       "    }\n",
       "</style>\n",
       "<table border=\"1\" class=\"dataframe\">\n",
       "  <thead>\n",
       "    <tr style=\"text-align: right;\">\n",
       "      <th></th>\n",
       "      <th>id</th>\n",
       "      <th>gender</th>\n",
       "      <th>age</th>\n",
       "      <th>topic</th>\n",
       "      <th>sign</th>\n",
       "      <th>date</th>\n",
       "      <th>text</th>\n",
       "      <th>clean_text</th>\n",
       "    </tr>\n",
       "  </thead>\n",
       "  <tbody>\n",
       "    <tr>\n",
       "      <th>639337</th>\n",
       "      <td>3578628</td>\n",
       "      <td>male</td>\n",
       "      <td>16</td>\n",
       "      <td>Education</td>\n",
       "      <td>Taurus</td>\n",
       "      <td>16,June,2004</td>\n",
       "      <td>I would like to take this opportunity to thank Spencer for staying up to 12:30 tonight to explain sports to me.  I would also like to take this time to thank everyone who has taken the time to explain sports to me, like Josh and David.  Working with these guys has been really nice and a true learning experience in all fields.  I know...you're all like 'It's no big deal.  We're cool with it,' but I am very sentimental and appreciate everything, so I like to thank people.  I know ...</td>\n",
       "      <td>would like take opportunity thank spencer staying tonight explain sports would also like take time thank everyone taken time explain sports like josh david working guys really nice true learning experience fields know like big deal cool sentimental appreciate everything like thank people know half guy serious guys funny note prove wrong lol keep pushing learn new things like said wanting thank everyone get strange feeling done sorry get bitchy slap tell move get picture</td>\n",
       "    </tr>\n",
       "    <tr>\n",
       "      <th>191552</th>\n",
       "      <td>3872536</td>\n",
       "      <td>male</td>\n",
       "      <td>17</td>\n",
       "      <td>Student</td>\n",
       "      <td>Gemini</td>\n",
       "      <td>01,June,2004</td>\n",
       "      <td>Another tired but meaningful day.  Today went school as usual to do the door gifts for the Leo camp. Do from 11 to about 4+ ba. We actually managed to finish all the doorgift by today lor, all the painting n writing of words. So satisfied with our product from far. Coz the doorgifts look so colourful n nice from far, but when one actually moves closer, it's like you'll see many cracks on it lor. So I was suggesting that we'll show the guests how nice our gifts are but when distributin...</td>\n",
       "      <td>another tired meaningful day today went school usual door gifts leo camp ba actually managed finish doorgift today lor painting n writing words satisfied product far coz doorgifts look colourful n nice far one actually moves closer like see many cracks lor suggesting show guests nice gifts distributing stuff lights actually see home like already stepped busi lor juz lame lah enjoy much gifts lol eat lotsa stuff lunch coz damn hungry rojak n mince meat noodle lor tat go tm shop xxx birthday p...</td>\n",
       "    </tr>\n",
       "    <tr>\n",
       "      <th>323628</th>\n",
       "      <td>3761156</td>\n",
       "      <td>female</td>\n",
       "      <td>15</td>\n",
       "      <td>indUnk</td>\n",
       "      <td>Pisces</td>\n",
       "      <td>01,July,2004</td>\n",
       "      <td>First of all . . . Lauren, tomorrow you WILL! I really wanna go to HOM!  So . . . I got a letter from Mr. Suppon. He is one of my favorite teachers, if not my favorite teacher. I love photo way much, but I am pretty darn good at screwing things up in that department. Cheating is bad, especially if you are a really bad cheater and you end up making it look like you were cheating even more than you were before. Yeah, so, that made no sense. However, I did it. I muddled up coppying t...</td>\n",
       "      <td>first lauren tomorrow really wanna go hom got letter mr suppon one favorite teachers favorite teacher love photo way much pretty darn good screwing things department cheating bad especially really bad cheater end making look like cheating even yeah made sense however muddled coppying end simple paper turning wrong paper looking like total lying idiot suppose deserve though lame end year incomplete favorite class extraordinarily lame stupid paper fourth possibly fifth time compensate getting ...</td>\n",
       "    </tr>\n",
       "    <tr>\n",
       "      <th>495536</th>\n",
       "      <td>3451935</td>\n",
       "      <td>male</td>\n",
       "      <td>17</td>\n",
       "      <td>Banking</td>\n",
       "      <td>Aries</td>\n",
       "      <td>25,May,2004</td>\n",
       "      <td>urlLink    duncy-poos and ali-poos. duncy-poos lookin a bit concerned about something&amp;nbsp; urlLink</td>\n",
       "      <td>urllink duncy poos ali poos duncy poos lookin bit concerned something nbsp urllink</td>\n",
       "    </tr>\n",
       "    <tr>\n",
       "      <th>524919</th>\n",
       "      <td>1000866</td>\n",
       "      <td>female</td>\n",
       "      <td>17</td>\n",
       "      <td>Student</td>\n",
       "      <td>Libra</td>\n",
       "      <td>04,January,2004</td>\n",
       "      <td>Note to Catie: You're a moron. Listen to yourself when you say go to bed at a reasonable hour.   Another note to Catie: Hit yourself over the head tomorrow morning.  Note to Catie's head: Watch out. Catie's going to hit you tomorrow morning.  Final note to self: Stop writing notes to yourself you ignoramus. You're going to scare people away.</td>\n",
       "      <td>note catie moron listen say go bed reasonable hour another note catie hit head tomorrow morning note catie head watch catie going hit tomorrow morning final note self stop writing notes ignoramus going scare people away</td>\n",
       "    </tr>\n",
       "  </tbody>\n",
       "</table>\n",
       "</div>"
      ],
      "text/plain": [
       "             id  gender  age      topic    sign             date  \\\n",
       "639337  3578628    male   16  Education  Taurus     16,June,2004   \n",
       "191552  3872536    male   17    Student  Gemini     01,June,2004   \n",
       "323628  3761156  female   15     indUnk  Pisces     01,July,2004   \n",
       "495536  3451935    male   17    Banking   Aries      25,May,2004   \n",
       "524919  1000866  female   17    Student   Libra  04,January,2004   \n",
       "\n",
       "                                                                                                                                                                                                                                                                                                                                                                                                                                                                                                                       text  \\\n",
       "639337               I would like to take this opportunity to thank Spencer for staying up to 12:30 tonight to explain sports to me.  I would also like to take this time to thank everyone who has taken the time to explain sports to me, like Josh and David.  Working with these guys has been really nice and a true learning experience in all fields.  I know...you're all like 'It's no big deal.  We're cool with it,' but I am very sentimental and appreciate everything, so I like to thank people.  I know ...   \n",
       "191552         Another tired but meaningful day.  Today went school as usual to do the door gifts for the Leo camp. Do from 11 to about 4+ ba. We actually managed to finish all the doorgift by today lor, all the painting n writing of words. So satisfied with our product from far. Coz the doorgifts look so colourful n nice from far, but when one actually moves closer, it's like you'll see many cracks on it lor. So I was suggesting that we'll show the guests how nice our gifts are but when distributin...   \n",
       "323628             First of all . . . Lauren, tomorrow you WILL! I really wanna go to HOM!  So . . . I got a letter from Mr. Suppon. He is one of my favorite teachers, if not my favorite teacher. I love photo way much, but I am pretty darn good at screwing things up in that department. Cheating is bad, especially if you are a really bad cheater and you end up making it look like you were cheating even more than you were before. Yeah, so, that made no sense. However, I did it. I muddled up coppying t...   \n",
       "495536                                                                                                                                                                                                                                                                                                                                                                                                      urlLink    duncy-poos and ali-poos. duncy-poos lookin a bit concerned about something&nbsp; urlLink               \n",
       "524919                                                                                                                                                         Note to Catie: You're a moron. Listen to yourself when you say go to bed at a reasonable hour.   Another note to Catie: Hit yourself over the head tomorrow morning.  Note to Catie's head: Watch out. Catie's going to hit you tomorrow morning.  Final note to self: Stop writing notes to yourself you ignoramus. You're going to scare people away.        \n",
       "\n",
       "                                                                                                                                                                                                                                                                                                                                                                                                                                                                                                                 clean_text  \n",
       "639337                           would like take opportunity thank spencer staying tonight explain sports would also like take time thank everyone taken time explain sports like josh david working guys really nice true learning experience fields know like big deal cool sentimental appreciate everything like thank people know half guy serious guys funny note prove wrong lol keep pushing learn new things like said wanting thank everyone get strange feeling done sorry get bitchy slap tell move get picture  \n",
       "191552  another tired meaningful day today went school usual door gifts leo camp ba actually managed finish doorgift today lor painting n writing words satisfied product far coz doorgifts look colourful n nice far one actually moves closer like see many cracks lor suggesting show guests nice gifts distributing stuff lights actually see home like already stepped busi lor juz lame lah enjoy much gifts lol eat lotsa stuff lunch coz damn hungry rojak n mince meat noodle lor tat go tm shop xxx birthday p...  \n",
       "323628  first lauren tomorrow really wanna go hom got letter mr suppon one favorite teachers favorite teacher love photo way much pretty darn good screwing things department cheating bad especially really bad cheater end making look like cheating even yeah made sense however muddled coppying end simple paper turning wrong paper looking like total lying idiot suppose deserve though lame end year incomplete favorite class extraordinarily lame stupid paper fourth possibly fifth time compensate getting ...  \n",
       "495536                                                                                                                                                                                                                                                                                                                                                                                                                                   urllink duncy poos ali poos duncy poos lookin bit concerned something nbsp urllink  \n",
       "524919                                                                                                                                                                                                                                                                                          note catie moron listen say go bed reasonable hour another note catie hit head tomorrow morning note catie head watch catie going hit tomorrow morning final note self stop writing notes ignoramus going scare people away  "
      ]
     },
     "execution_count": 35,
     "metadata": {},
     "output_type": "execute_result"
    }
   ],
   "source": [
    "# considering few samples for the model development\n",
    "\n",
    "bloggers_df.head()"
   ]
  },
  {
   "cell_type": "code",
   "execution_count": 36,
   "id": "f141eaee",
   "metadata": {},
   "outputs": [],
   "source": [
    "#3) Build a base Classification model"
   ]
  },
  {
   "cell_type": "code",
   "execution_count": 37,
   "id": "d44009bb",
   "metadata": {},
   "outputs": [],
   "source": [
    "#split into the X and y labels\n",
    "X = bloggers_df['clean_text']\n",
    "y = bloggers_df['topic']"
   ]
  },
  {
   "cell_type": "code",
   "execution_count": 38,
   "id": "8f2d3a0a",
   "metadata": {},
   "outputs": [],
   "source": [
    "# Train and test split"
   ]
  },
  {
   "cell_type": "code",
   "execution_count": 39,
   "id": "181f3721",
   "metadata": {},
   "outputs": [],
   "source": [
    "X_train,X_test,y_train,y_test = train_test_split(X,y,test_size=0.20,random_state=43)"
   ]
  },
  {
   "cell_type": "code",
   "execution_count": 40,
   "id": "27f8cc94",
   "metadata": {},
   "outputs": [
    {
     "name": "stdout",
     "output_type": "stream",
     "text": [
      "Training samples count: 3818\n",
      "Testing samples count: 955\n"
     ]
    }
   ],
   "source": [
    "print('Training samples count:',X_train.shape[0])\n",
    "print('Testing samples count:',X_test.shape[0])"
   ]
  },
  {
   "cell_type": "code",
   "execution_count": 41,
   "id": "54a973e1",
   "metadata": {},
   "outputs": [],
   "source": [
    "# Vectorizer\n",
    "vectorizer = CountVectorizer(ngram_range=(1,2))\n",
    "\n",
    "vectorizer.fit(X_train)\n",
    "\n",
    "X_train = vectorizer.transform(X_train)\n",
    "X_test = vectorizer.transform(X_test)"
   ]
  },
  {
   "cell_type": "code",
   "execution_count": 42,
   "id": "2741e5bf",
   "metadata": {},
   "outputs": [],
   "source": [
    "#3) Design, train, tune and test the best text classifier."
   ]
  },
  {
   "cell_type": "code",
   "execution_count": 44,
   "id": "94cea265",
   "metadata": {},
   "outputs": [],
   "source": [
    "from sklearn.linear_model import LogisticRegression\n",
    "\n",
    "lr = LogisticRegression()\n",
    "\n",
    "\n",
    "lr.fit(X_train, y_train)\n",
    "y_pred = lr.predict(X_test)\n",
    "#y_proba_ovr = ovr.predict_proba(X_test_dtm)\n"
   ]
  },
  {
   "cell_type": "code",
   "execution_count": null,
   "id": "5640c1de",
   "metadata": {},
   "outputs": [],
   "source": [
    "from sklearn.metrics import accuracy_score,f1_score,average_precision_score,recall_score\n",
    "\n",
    "print('Accuracy score: ', accuracy_score(y_test, y_pred))\n",
    "print('F1 score: Micro', f1_score(y_test, y_pred, average='micro'))\n",
    "print('Average precision score: Micro', average_precision_score(y_test, y_pred, average='micro'))\n",
    "print('Average recall score: Micro', recall_score(y_test, y_pred, average='micro'))"
   ]
  },
  {
   "cell_type": "code",
   "execution_count": null,
   "id": "41c10f53",
   "metadata": {},
   "outputs": [],
   "source": [
    "for i in range(5):\n",
    "    print('Title:\\t{}\\nTrue labels:\\t{}\\nPredicted labels:\\t{}\\n\\n'.format(\n",
    "        X_test[i],\n",
    "        ','.join(y_test_inversed[i]),\n",
    "        ','.join(pred_inversed[i])\n",
    "    ))"
   ]
  },
  {
   "cell_type": "code",
   "execution_count": null,
   "id": "8cbec242",
   "metadata": {},
   "outputs": [],
   "source": []
  },
  {
   "cell_type": "code",
   "execution_count": null,
   "id": "7d309a31",
   "metadata": {},
   "outputs": [],
   "source": []
  }
 ],
 "metadata": {
  "kernelspec": {
   "display_name": "Python 3",
   "language": "python",
   "name": "python3"
  },
  "language_info": {
   "codemirror_mode": {
    "name": "ipython",
    "version": 3
   },
   "file_extension": ".py",
   "mimetype": "text/x-python",
   "name": "python",
   "nbconvert_exporter": "python",
   "pygments_lexer": "ipython3",
   "version": "3.8.8"
  }
 },
 "nbformat": 4,
 "nbformat_minor": 5
}
